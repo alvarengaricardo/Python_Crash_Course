{
 "cells": [
  {
   "cell_type": "markdown",
   "id": "fe42dfdf",
   "metadata": {},
   "source": [
    "### Zen"
   ]
  },
  {
   "cell_type": "code",
   "execution_count": 1,
   "id": "c91c8931",
   "metadata": {},
   "outputs": [
    {
     "name": "stdout",
     "output_type": "stream",
     "text": [
      "The Zen of Python, by Tim Peters\n",
      "\n",
      "Beautiful is better than ugly.\n",
      "Explicit is better than implicit.\n",
      "Simple is better than complex.\n",
      "Complex is better than complicated.\n",
      "Flat is better than nested.\n",
      "Sparse is better than dense.\n",
      "Readability counts.\n",
      "Special cases aren't special enough to break the rules.\n",
      "Although practicality beats purity.\n",
      "Errors should never pass silently.\n",
      "Unless explicitly silenced.\n",
      "In the face of ambiguity, refuse the temptation to guess.\n",
      "There should be one-- and preferably only one --obvious way to do it.\n",
      "Although that way may not be obvious at first unless you're Dutch.\n",
      "Now is better than never.\n",
      "Although never is often better than *right* now.\n",
      "If the implementation is hard to explain, it's a bad idea.\n",
      "If the implementation is easy to explain, it may be a good idea.\n",
      "Namespaces are one honking great idea -- let's do more of those!\n"
     ]
    }
   ],
   "source": [
    "import this"
   ]
  },
  {
   "cell_type": "markdown",
   "id": "96f94d8e",
   "metadata": {},
   "source": [
    "### Strings"
   ]
  },
  {
   "cell_type": "code",
   "execution_count": 2,
   "id": "9e6440e7",
   "metadata": {},
   "outputs": [],
   "source": [
    "name = \"Ada Lovelace\""
   ]
  },
  {
   "cell_type": "code",
   "execution_count": 3,
   "id": "dac25145",
   "metadata": {},
   "outputs": [
    {
     "name": "stdout",
     "output_type": "stream",
     "text": [
      "ADA LOVELACE\n"
     ]
    }
   ],
   "source": [
    "print(name.upper())"
   ]
  },
  {
   "cell_type": "code",
   "execution_count": 4,
   "id": "6644d1f2",
   "metadata": {},
   "outputs": [
    {
     "name": "stdout",
     "output_type": "stream",
     "text": [
      "Ada Lovelace\n"
     ]
    }
   ],
   "source": [
    "print(name.title())"
   ]
  },
  {
   "cell_type": "code",
   "execution_count": 5,
   "id": "414f8206",
   "metadata": {},
   "outputs": [
    {
     "name": "stdout",
     "output_type": "stream",
     "text": [
      "Languages:\n",
      "\tPython\n",
      "\tJava\n",
      "\tC\n",
      "\tFortran\n"
     ]
    }
   ],
   "source": [
    "print(\"Languages:\\n\\tPython\\n\\tJava\\n\\tC\\n\\tFortran\")"
   ]
  },
  {
   "cell_type": "markdown",
   "id": "239224c7",
   "metadata": {},
   "source": [
    "### Lists"
   ]
  },
  {
   "cell_type": "code",
   "execution_count": 6,
   "id": "2efdc4f0",
   "metadata": {},
   "outputs": [],
   "source": [
    "bikes = ['trek', 'cannondale', 'readline', 'specialized']"
   ]
  },
  {
   "cell_type": "code",
   "execution_count": 7,
   "id": "99c86912",
   "metadata": {},
   "outputs": [
    {
     "name": "stdout",
     "output_type": "stream",
     "text": [
      "['trek', 'cannondale', 'readline', 'specialized']\n"
     ]
    }
   ],
   "source": [
    "print(bikes)"
   ]
  },
  {
   "cell_type": "code",
   "execution_count": 8,
   "id": "1a868d65",
   "metadata": {},
   "outputs": [
    {
     "name": "stdout",
     "output_type": "stream",
     "text": [
      "Trek\n",
      "Cannondale\n",
      "Readline\n",
      "Specialized\n"
     ]
    }
   ],
   "source": [
    "for i in bikes:\n",
    "    print(i.title())"
   ]
  },
  {
   "cell_type": "code",
   "execution_count": 9,
   "id": "e5455ad0",
   "metadata": {},
   "outputs": [
    {
     "name": "stdout",
     "output_type": "stream",
     "text": [
      "[]\n"
     ]
    }
   ],
   "source": [
    "motorcycles = []\n",
    "print(motorcycles)"
   ]
  },
  {
   "cell_type": "code",
   "execution_count": 10,
   "id": "313045a7",
   "metadata": {},
   "outputs": [],
   "source": [
    "motorcycles.append('honda')\n",
    "motorcycles.append('yamaha')\n",
    "motorcycles.append('suzuki')"
   ]
  },
  {
   "cell_type": "code",
   "execution_count": 11,
   "id": "768a8a22",
   "metadata": {},
   "outputs": [
    {
     "data": {
      "text/plain": [
       "['honda', 'yamaha', 'suzuki']"
      ]
     },
     "execution_count": 11,
     "metadata": {},
     "output_type": "execute_result"
    }
   ],
   "source": [
    "motorcycles"
   ]
  },
  {
   "cell_type": "code",
   "execution_count": 12,
   "id": "bbaf5791",
   "metadata": {},
   "outputs": [
    {
     "data": {
      "text/plain": [
       "['ducati', 'honda', 'yamaha', 'suzuki']"
      ]
     },
     "execution_count": 12,
     "metadata": {},
     "output_type": "execute_result"
    }
   ],
   "source": [
    "motorcycles.insert(0, 'ducati')\n",
    "motorcycles"
   ]
  },
  {
   "cell_type": "code",
   "execution_count": 13,
   "id": "28c76a5d",
   "metadata": {},
   "outputs": [
    {
     "data": {
      "text/plain": [
       "['ducati', 'yamaha', 'suzuki']"
      ]
     },
     "execution_count": 13,
     "metadata": {},
     "output_type": "execute_result"
    }
   ],
   "source": [
    "del motorcycles[1]\n",
    "motorcycles"
   ]
  },
  {
   "cell_type": "code",
   "execution_count": 14,
   "id": "5687661d",
   "metadata": {},
   "outputs": [
    {
     "data": {
      "text/plain": [
       "['ducati', 'yamaha']"
      ]
     },
     "execution_count": 14,
     "metadata": {},
     "output_type": "execute_result"
    }
   ],
   "source": [
    "motorcycles.pop()\n",
    "motorcycles"
   ]
  },
  {
   "cell_type": "code",
   "execution_count": 15,
   "id": "95cafe15",
   "metadata": {},
   "outputs": [
    {
     "data": {
      "text/plain": [
       "['yamaha']"
      ]
     },
     "execution_count": 15,
     "metadata": {},
     "output_type": "execute_result"
    }
   ],
   "source": [
    "motorcycles.pop(0)\n",
    "motorcycles"
   ]
  },
  {
   "cell_type": "code",
   "execution_count": 16,
   "id": "1723b22f",
   "metadata": {},
   "outputs": [
    {
     "data": {
      "text/plain": [
       "['yamaha', 'bmw']"
      ]
     },
     "execution_count": 16,
     "metadata": {},
     "output_type": "execute_result"
    }
   ],
   "source": [
    "motorcycles.append('bmw')\n",
    "motorcycles"
   ]
  },
  {
   "cell_type": "code",
   "execution_count": 17,
   "id": "d7977fc4",
   "metadata": {},
   "outputs": [
    {
     "data": {
      "text/plain": [
       "['bmw']"
      ]
     },
     "execution_count": 17,
     "metadata": {},
     "output_type": "execute_result"
    }
   ],
   "source": [
    "motorcycles.remove('yamaha')\n",
    "motorcycles"
   ]
  },
  {
   "cell_type": "code",
   "execution_count": 26,
   "id": "9bb90341",
   "metadata": {},
   "outputs": [
    {
     "data": {
      "text/plain": [
       "['toyota', 'mercedes', 'bmw', 'honda', 'volvo', 'gurgel']"
      ]
     },
     "execution_count": 26,
     "metadata": {},
     "output_type": "execute_result"
    }
   ],
   "source": [
    "cars = ['toyota', 'mercedes', 'bmw', 'honda', 'volvo', 'gurgel']\n",
    "cars"
   ]
  },
  {
   "cell_type": "code",
   "execution_count": 27,
   "id": "2d258f7a",
   "metadata": {},
   "outputs": [
    {
     "name": "stdout",
     "output_type": "stream",
     "text": [
      "['bmw', 'gurgel', 'honda', 'mercedes', 'toyota', 'volvo']\n"
     ]
    }
   ],
   "source": [
    "print(sorted(cars))"
   ]
  },
  {
   "cell_type": "code",
   "execution_count": 28,
   "id": "9ad5e1bb",
   "metadata": {},
   "outputs": [
    {
     "data": {
      "text/plain": [
       "['toyota', 'mercedes', 'bmw', 'honda', 'volvo', 'gurgel']"
      ]
     },
     "execution_count": 28,
     "metadata": {},
     "output_type": "execute_result"
    }
   ],
   "source": [
    "cars"
   ]
  },
  {
   "cell_type": "code",
   "execution_count": 29,
   "id": "cb182534",
   "metadata": {},
   "outputs": [
    {
     "data": {
      "text/plain": [
       "['bmw', 'gurgel', 'honda', 'mercedes', 'toyota', 'volvo']"
      ]
     },
     "execution_count": 29,
     "metadata": {},
     "output_type": "execute_result"
    }
   ],
   "source": [
    "cars.sort()\n",
    "cars"
   ]
  },
  {
   "cell_type": "code",
   "execution_count": 30,
   "id": "a35952d7",
   "metadata": {},
   "outputs": [
    {
     "data": {
      "text/plain": [
       "'volvo'"
      ]
     },
     "execution_count": 30,
     "metadata": {},
     "output_type": "execute_result"
    }
   ],
   "source": [
    "cars[-1]"
   ]
  },
  {
   "cell_type": "code",
   "execution_count": 31,
   "id": "d869b63d",
   "metadata": {},
   "outputs": [
    {
     "data": {
      "text/plain": [
       "'toyota'"
      ]
     },
     "execution_count": 31,
     "metadata": {},
     "output_type": "execute_result"
    }
   ],
   "source": [
    "cars[-2]"
   ]
  },
  {
   "cell_type": "code",
   "execution_count": 32,
   "id": "dee15f86",
   "metadata": {},
   "outputs": [
    {
     "data": {
      "text/plain": [
       "'bmw'"
      ]
     },
     "execution_count": 32,
     "metadata": {},
     "output_type": "execute_result"
    }
   ],
   "source": [
    "cars[0]"
   ]
  },
  {
   "cell_type": "code",
   "execution_count": 38,
   "id": "3a678dd9",
   "metadata": {},
   "outputs": [
    {
     "data": {
      "text/plain": [
       "['honda', 'mercedes']"
      ]
     },
     "execution_count": 38,
     "metadata": {},
     "output_type": "execute_result"
    }
   ],
   "source": [
    "cars[2:4]"
   ]
  },
  {
   "cell_type": "code",
   "execution_count": 39,
   "id": "1acd4380",
   "metadata": {},
   "outputs": [
    {
     "data": {
      "text/plain": [
       "['gurgel', 'honda', 'mercedes', 'toyota']"
      ]
     },
     "execution_count": 39,
     "metadata": {},
     "output_type": "execute_result"
    }
   ],
   "source": [
    "cars[1:-1]"
   ]
  },
  {
   "cell_type": "code",
   "execution_count": 40,
   "id": "ca3e6274",
   "metadata": {},
   "outputs": [
    {
     "data": {
      "text/plain": [
       "['honda', 'mercedes', 'toyota', 'volvo']"
      ]
     },
     "execution_count": 40,
     "metadata": {},
     "output_type": "execute_result"
    }
   ],
   "source": [
    "cars[2:]"
   ]
  },
  {
   "cell_type": "code",
   "execution_count": 41,
   "id": "f3afd6c9",
   "metadata": {},
   "outputs": [
    {
     "data": {
      "text/plain": [
       "['bmw', 'gurgel', 'honda']"
      ]
     },
     "execution_count": 41,
     "metadata": {},
     "output_type": "execute_result"
    }
   ],
   "source": [
    "cars[:3]"
   ]
  },
  {
   "cell_type": "code",
   "execution_count": 42,
   "id": "0d3fc285",
   "metadata": {},
   "outputs": [
    {
     "data": {
      "text/plain": [
       "['bmw', 'gurgel', 'honda', 'mercedes', 'toyota']"
      ]
     },
     "execution_count": 42,
     "metadata": {},
     "output_type": "execute_result"
    }
   ],
   "source": [
    "cars[:-1]"
   ]
  },
  {
   "cell_type": "code",
   "execution_count": 43,
   "id": "292bd7cc",
   "metadata": {},
   "outputs": [
    {
     "data": {
      "text/plain": [
       "['mercedes', 'toyota']"
      ]
     },
     "execution_count": 43,
     "metadata": {},
     "output_type": "execute_result"
    }
   ],
   "source": [
    "cars[-3:-1]"
   ]
  },
  {
   "cell_type": "code",
   "execution_count": null,
   "id": "ff4824df",
   "metadata": {},
   "outputs": [],
   "source": []
  }
 ],
 "metadata": {
  "kernelspec": {
   "display_name": "Python 3 (ipykernel)",
   "language": "python",
   "name": "python3"
  },
  "language_info": {
   "codemirror_mode": {
    "name": "ipython",
    "version": 3
   },
   "file_extension": ".py",
   "mimetype": "text/x-python",
   "name": "python",
   "nbconvert_exporter": "python",
   "pygments_lexer": "ipython3",
   "version": "3.8.10"
  }
 },
 "nbformat": 4,
 "nbformat_minor": 5
}
