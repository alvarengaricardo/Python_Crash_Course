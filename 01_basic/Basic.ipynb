{
 "cells": [
  {
   "cell_type": "markdown",
   "id": "fe42dfdf",
   "metadata": {},
   "source": [
    "### Zen"
   ]
  },
  {
   "cell_type": "code",
   "execution_count": 1,
   "id": "c91c8931",
   "metadata": {},
   "outputs": [
    {
     "name": "stdout",
     "output_type": "stream",
     "text": [
      "The Zen of Python, by Tim Peters\n",
      "\n",
      "Beautiful is better than ugly.\n",
      "Explicit is better than implicit.\n",
      "Simple is better than complex.\n",
      "Complex is better than complicated.\n",
      "Flat is better than nested.\n",
      "Sparse is better than dense.\n",
      "Readability counts.\n",
      "Special cases aren't special enough to break the rules.\n",
      "Although practicality beats purity.\n",
      "Errors should never pass silently.\n",
      "Unless explicitly silenced.\n",
      "In the face of ambiguity, refuse the temptation to guess.\n",
      "There should be one-- and preferably only one --obvious way to do it.\n",
      "Although that way may not be obvious at first unless you're Dutch.\n",
      "Now is better than never.\n",
      "Although never is often better than *right* now.\n",
      "If the implementation is hard to explain, it's a bad idea.\n",
      "If the implementation is easy to explain, it may be a good idea.\n",
      "Namespaces are one honking great idea -- let's do more of those!\n"
     ]
    }
   ],
   "source": [
    "import this"
   ]
  },
  {
   "cell_type": "markdown",
   "id": "96f94d8e",
   "metadata": {},
   "source": [
    "### Strings"
   ]
  },
  {
   "cell_type": "code",
   "execution_count": 2,
   "id": "9e6440e7",
   "metadata": {},
   "outputs": [],
   "source": [
    "name = \"Ada Lovelace\""
   ]
  },
  {
   "cell_type": "code",
   "execution_count": 3,
   "id": "dac25145",
   "metadata": {},
   "outputs": [
    {
     "name": "stdout",
     "output_type": "stream",
     "text": [
      "ADA LOVELACE\n"
     ]
    }
   ],
   "source": [
    "print(name.upper())"
   ]
  },
  {
   "cell_type": "code",
   "execution_count": 4,
   "id": "6644d1f2",
   "metadata": {},
   "outputs": [
    {
     "name": "stdout",
     "output_type": "stream",
     "text": [
      "Ada Lovelace\n"
     ]
    }
   ],
   "source": [
    "print(name.title())"
   ]
  },
  {
   "cell_type": "code",
   "execution_count": 5,
   "id": "414f8206",
   "metadata": {},
   "outputs": [
    {
     "name": "stdout",
     "output_type": "stream",
     "text": [
      "Languages:\n",
      "\tPython\n",
      "\tJava\n",
      "\tC\n",
      "\tFortran\n"
     ]
    }
   ],
   "source": [
    "print(\"Languages:\\n\\tPython\\n\\tJava\\n\\tC\\n\\tFortran\")"
   ]
  },
  {
   "cell_type": "markdown",
   "id": "239224c7",
   "metadata": {},
   "source": [
    "### Listas"
   ]
  },
  {
   "cell_type": "code",
   "execution_count": 6,
   "id": "2efdc4f0",
   "metadata": {},
   "outputs": [],
   "source": [
    "bikes = ['trek', 'cannondale', 'readline', 'specialized']"
   ]
  },
  {
   "cell_type": "code",
   "execution_count": 7,
   "id": "99c86912",
   "metadata": {},
   "outputs": [
    {
     "name": "stdout",
     "output_type": "stream",
     "text": [
      "['trek', 'cannondale', 'readline', 'specialized']\n"
     ]
    }
   ],
   "source": [
    "print(bikes)"
   ]
  },
  {
   "cell_type": "code",
   "execution_count": 8,
   "id": "1a868d65",
   "metadata": {},
   "outputs": [
    {
     "name": "stdout",
     "output_type": "stream",
     "text": [
      "Trek\n",
      "Cannondale\n",
      "Readline\n",
      "Specialized\n"
     ]
    }
   ],
   "source": [
    "for i in bikes:\n",
    "    print(i.title())"
   ]
  },
  {
   "cell_type": "code",
   "execution_count": 62,
   "id": "4288cda5",
   "metadata": {},
   "outputs": [
    {
     "data": {
      "text/plain": [
       "['speed', 'cannondale', 'readline', 'specialized']"
      ]
     },
     "execution_count": 62,
     "metadata": {},
     "output_type": "execute_result"
    }
   ],
   "source": [
    "bikes[0] = 'speed'\n",
    "bikes"
   ]
  },
  {
   "cell_type": "code",
   "execution_count": 9,
   "id": "e5455ad0",
   "metadata": {},
   "outputs": [
    {
     "name": "stdout",
     "output_type": "stream",
     "text": [
      "[]\n"
     ]
    }
   ],
   "source": [
    "motorcycles = []\n",
    "print(motorcycles)"
   ]
  },
  {
   "cell_type": "code",
   "execution_count": 10,
   "id": "313045a7",
   "metadata": {},
   "outputs": [],
   "source": [
    "motorcycles.append('honda')\n",
    "motorcycles.append('yamaha')\n",
    "motorcycles.append('suzuki')"
   ]
  },
  {
   "cell_type": "code",
   "execution_count": 11,
   "id": "768a8a22",
   "metadata": {},
   "outputs": [
    {
     "data": {
      "text/plain": [
       "['honda', 'yamaha', 'suzuki']"
      ]
     },
     "execution_count": 11,
     "metadata": {},
     "output_type": "execute_result"
    }
   ],
   "source": [
    "motorcycles"
   ]
  },
  {
   "cell_type": "code",
   "execution_count": 12,
   "id": "bbaf5791",
   "metadata": {},
   "outputs": [
    {
     "data": {
      "text/plain": [
       "['ducati', 'honda', 'yamaha', 'suzuki']"
      ]
     },
     "execution_count": 12,
     "metadata": {},
     "output_type": "execute_result"
    }
   ],
   "source": [
    "motorcycles.insert(0, 'ducati')\n",
    "motorcycles"
   ]
  },
  {
   "cell_type": "code",
   "execution_count": 13,
   "id": "28c76a5d",
   "metadata": {},
   "outputs": [
    {
     "data": {
      "text/plain": [
       "['ducati', 'yamaha', 'suzuki']"
      ]
     },
     "execution_count": 13,
     "metadata": {},
     "output_type": "execute_result"
    }
   ],
   "source": [
    "del motorcycles[1]\n",
    "motorcycles"
   ]
  },
  {
   "cell_type": "code",
   "execution_count": 14,
   "id": "5687661d",
   "metadata": {},
   "outputs": [
    {
     "data": {
      "text/plain": [
       "['ducati', 'yamaha']"
      ]
     },
     "execution_count": 14,
     "metadata": {},
     "output_type": "execute_result"
    }
   ],
   "source": [
    "motorcycles.pop()\n",
    "motorcycles"
   ]
  },
  {
   "cell_type": "code",
   "execution_count": 15,
   "id": "95cafe15",
   "metadata": {},
   "outputs": [
    {
     "data": {
      "text/plain": [
       "['yamaha']"
      ]
     },
     "execution_count": 15,
     "metadata": {},
     "output_type": "execute_result"
    }
   ],
   "source": [
    "motorcycles.pop(0)\n",
    "motorcycles"
   ]
  },
  {
   "cell_type": "code",
   "execution_count": 16,
   "id": "1723b22f",
   "metadata": {},
   "outputs": [
    {
     "data": {
      "text/plain": [
       "['yamaha', 'bmw']"
      ]
     },
     "execution_count": 16,
     "metadata": {},
     "output_type": "execute_result"
    }
   ],
   "source": [
    "motorcycles.append('bmw')\n",
    "motorcycles"
   ]
  },
  {
   "cell_type": "code",
   "execution_count": 17,
   "id": "d7977fc4",
   "metadata": {},
   "outputs": [
    {
     "data": {
      "text/plain": [
       "['bmw']"
      ]
     },
     "execution_count": 17,
     "metadata": {},
     "output_type": "execute_result"
    }
   ],
   "source": [
    "motorcycles.remove('yamaha')\n",
    "motorcycles"
   ]
  },
  {
   "cell_type": "code",
   "execution_count": 18,
   "id": "9bb90341",
   "metadata": {},
   "outputs": [
    {
     "data": {
      "text/plain": [
       "['toyota', 'mercedes', 'bmw', 'honda', 'volvo', 'gurgel']"
      ]
     },
     "execution_count": 18,
     "metadata": {},
     "output_type": "execute_result"
    }
   ],
   "source": [
    "cars = ['toyota', 'mercedes', 'bmw', 'honda', 'volvo', 'gurgel']\n",
    "cars"
   ]
  },
  {
   "cell_type": "code",
   "execution_count": 19,
   "id": "2d258f7a",
   "metadata": {},
   "outputs": [
    {
     "name": "stdout",
     "output_type": "stream",
     "text": [
      "['bmw', 'gurgel', 'honda', 'mercedes', 'toyota', 'volvo']\n"
     ]
    }
   ],
   "source": [
    "print(sorted(cars))"
   ]
  },
  {
   "cell_type": "code",
   "execution_count": 20,
   "id": "9ad5e1bb",
   "metadata": {},
   "outputs": [
    {
     "data": {
      "text/plain": [
       "['toyota', 'mercedes', 'bmw', 'honda', 'volvo', 'gurgel']"
      ]
     },
     "execution_count": 20,
     "metadata": {},
     "output_type": "execute_result"
    }
   ],
   "source": [
    "cars"
   ]
  },
  {
   "cell_type": "code",
   "execution_count": 21,
   "id": "cb182534",
   "metadata": {},
   "outputs": [
    {
     "data": {
      "text/plain": [
       "['bmw', 'gurgel', 'honda', 'mercedes', 'toyota', 'volvo']"
      ]
     },
     "execution_count": 21,
     "metadata": {},
     "output_type": "execute_result"
    }
   ],
   "source": [
    "cars.sort()\n",
    "cars"
   ]
  },
  {
   "cell_type": "code",
   "execution_count": 22,
   "id": "a35952d7",
   "metadata": {},
   "outputs": [
    {
     "data": {
      "text/plain": [
       "'volvo'"
      ]
     },
     "execution_count": 22,
     "metadata": {},
     "output_type": "execute_result"
    }
   ],
   "source": [
    "cars[-1]"
   ]
  },
  {
   "cell_type": "code",
   "execution_count": 23,
   "id": "d869b63d",
   "metadata": {},
   "outputs": [
    {
     "data": {
      "text/plain": [
       "'toyota'"
      ]
     },
     "execution_count": 23,
     "metadata": {},
     "output_type": "execute_result"
    }
   ],
   "source": [
    "cars[-2]"
   ]
  },
  {
   "cell_type": "code",
   "execution_count": 24,
   "id": "dee15f86",
   "metadata": {},
   "outputs": [
    {
     "data": {
      "text/plain": [
       "'bmw'"
      ]
     },
     "execution_count": 24,
     "metadata": {},
     "output_type": "execute_result"
    }
   ],
   "source": [
    "cars[0]"
   ]
  },
  {
   "cell_type": "code",
   "execution_count": 25,
   "id": "3a678dd9",
   "metadata": {},
   "outputs": [
    {
     "data": {
      "text/plain": [
       "['honda', 'mercedes']"
      ]
     },
     "execution_count": 25,
     "metadata": {},
     "output_type": "execute_result"
    }
   ],
   "source": [
    "cars[2:4]"
   ]
  },
  {
   "cell_type": "code",
   "execution_count": 26,
   "id": "1acd4380",
   "metadata": {},
   "outputs": [
    {
     "data": {
      "text/plain": [
       "['gurgel', 'honda', 'mercedes', 'toyota']"
      ]
     },
     "execution_count": 26,
     "metadata": {},
     "output_type": "execute_result"
    }
   ],
   "source": [
    "cars[1:-1]"
   ]
  },
  {
   "cell_type": "code",
   "execution_count": 27,
   "id": "ca3e6274",
   "metadata": {},
   "outputs": [
    {
     "data": {
      "text/plain": [
       "['honda', 'mercedes', 'toyota', 'volvo']"
      ]
     },
     "execution_count": 27,
     "metadata": {},
     "output_type": "execute_result"
    }
   ],
   "source": [
    "cars[2:]"
   ]
  },
  {
   "cell_type": "code",
   "execution_count": 28,
   "id": "f3afd6c9",
   "metadata": {},
   "outputs": [
    {
     "data": {
      "text/plain": [
       "['bmw', 'gurgel', 'honda']"
      ]
     },
     "execution_count": 28,
     "metadata": {},
     "output_type": "execute_result"
    }
   ],
   "source": [
    "cars[:3]"
   ]
  },
  {
   "cell_type": "code",
   "execution_count": 29,
   "id": "0d3fc285",
   "metadata": {},
   "outputs": [
    {
     "data": {
      "text/plain": [
       "['bmw', 'gurgel', 'honda', 'mercedes', 'toyota']"
      ]
     },
     "execution_count": 29,
     "metadata": {},
     "output_type": "execute_result"
    }
   ],
   "source": [
    "cars[:-1]"
   ]
  },
  {
   "cell_type": "code",
   "execution_count": 30,
   "id": "292bd7cc",
   "metadata": {},
   "outputs": [
    {
     "data": {
      "text/plain": [
       "['mercedes', 'toyota']"
      ]
     },
     "execution_count": 30,
     "metadata": {},
     "output_type": "execute_result"
    }
   ],
   "source": [
    "cars[-3:-1]"
   ]
  },
  {
   "cell_type": "markdown",
   "id": "bf6cf55c",
   "metadata": {},
   "source": [
    "### Criando Listas Numéricas"
   ]
  },
  {
   "cell_type": "code",
   "execution_count": 31,
   "id": "de56a433",
   "metadata": {},
   "outputs": [
    {
     "name": "stdout",
     "output_type": "stream",
     "text": [
      "1\n",
      "2\n",
      "3\n",
      "4\n",
      "5\n",
      "6\n",
      "7\n",
      "8\n",
      "9\n",
      "10\n"
     ]
    }
   ],
   "source": [
    "for i in range(1, 11):\n",
    "    print(i)"
   ]
  },
  {
   "cell_type": "code",
   "execution_count": 32,
   "id": "a1e86d1c",
   "metadata": {},
   "outputs": [
    {
     "name": "stdout",
     "output_type": "stream",
     "text": [
      "10\n",
      "9\n",
      "8\n",
      "7\n",
      "6\n",
      "5\n",
      "4\n",
      "3\n",
      "2\n",
      "1\n"
     ]
    }
   ],
   "source": [
    "for i in range(10, 0, -1):\n",
    "    print(i)"
   ]
  },
  {
   "cell_type": "code",
   "execution_count": 34,
   "id": "b9ed9fe8",
   "metadata": {},
   "outputs": [
    {
     "data": {
      "text/plain": [
       "[1, 2, 3, 4, 5]"
      ]
     },
     "execution_count": 34,
     "metadata": {},
     "output_type": "execute_result"
    }
   ],
   "source": [
    "numbers = list(range(1, 6))\n",
    "numbers"
   ]
  },
  {
   "cell_type": "code",
   "execution_count": 36,
   "id": "58a155c4",
   "metadata": {},
   "outputs": [
    {
     "data": {
      "text/plain": [
       "[2, 4, 6, 8, 10, 12, 14, 16, 18, 20]"
      ]
     },
     "execution_count": 36,
     "metadata": {},
     "output_type": "execute_result"
    }
   ],
   "source": [
    "even_numbers = list(range(2, 21, 2))\n",
    "even_numbers"
   ]
  },
  {
   "cell_type": "code",
   "execution_count": 37,
   "id": "b5245107",
   "metadata": {},
   "outputs": [
    {
     "name": "stdout",
     "output_type": "stream",
     "text": [
      "[1, 4, 9, 16, 25, 36, 49, 64, 81, 100]\n"
     ]
    }
   ],
   "source": [
    "squares = []\n",
    "for value in range(1, 11):\n",
    "    squares.append(value ** 2)\n",
    "    \n",
    "print(squares)"
   ]
  },
  {
   "cell_type": "code",
   "execution_count": 39,
   "id": "b5774318",
   "metadata": {},
   "outputs": [
    {
     "data": {
      "text/plain": [
       "1"
      ]
     },
     "execution_count": 39,
     "metadata": {},
     "output_type": "execute_result"
    }
   ],
   "source": [
    "min(squares)"
   ]
  },
  {
   "cell_type": "code",
   "execution_count": 40,
   "id": "f31023f1",
   "metadata": {},
   "outputs": [
    {
     "data": {
      "text/plain": [
       "100"
      ]
     },
     "execution_count": 40,
     "metadata": {},
     "output_type": "execute_result"
    }
   ],
   "source": [
    "max(squares)"
   ]
  },
  {
   "cell_type": "markdown",
   "id": "c3c23889",
   "metadata": {},
   "source": [
    "#### List Comprehensions"
   ]
  },
  {
   "cell_type": "code",
   "execution_count": 41,
   "id": "5c84ba65",
   "metadata": {},
   "outputs": [
    {
     "data": {
      "text/plain": [
       "[1, 4, 9, 16, 25, 36, 49, 64, 81, 100]"
      ]
     },
     "execution_count": 41,
     "metadata": {},
     "output_type": "execute_result"
    }
   ],
   "source": [
    "squares = [value ** 2 for value in range(1, 11)]\n",
    "squares"
   ]
  },
  {
   "cell_type": "code",
   "execution_count": 43,
   "id": "4c30d73a",
   "metadata": {},
   "outputs": [
    {
     "data": {
      "text/plain": [
       "[1, 8, 27, 64, 125, 216, 343, 512, 729, 1000]"
      ]
     },
     "execution_count": 43,
     "metadata": {},
     "output_type": "execute_result"
    }
   ],
   "source": [
    "cubes = [value ** 3 for value in range(1, 11)]\n",
    "cubes"
   ]
  },
  {
   "cell_type": "markdown",
   "id": "a22d1913",
   "metadata": {},
   "source": [
    "### Fatiando Listas"
   ]
  },
  {
   "cell_type": "code",
   "execution_count": 44,
   "id": "60be6716",
   "metadata": {},
   "outputs": [
    {
     "data": {
      "text/plain": [
       "['charles', 'martina', 'michel', 'florence', 'eli']"
      ]
     },
     "execution_count": 44,
     "metadata": {},
     "output_type": "execute_result"
    }
   ],
   "source": [
    "players = ['charles', 'martina', 'michel', 'florence', 'eli']\n",
    "players"
   ]
  },
  {
   "cell_type": "code",
   "execution_count": 45,
   "id": "6fdef3b4",
   "metadata": {},
   "outputs": [
    {
     "data": {
      "text/plain": [
       "['martina', 'michel', 'florence']"
      ]
     },
     "execution_count": 45,
     "metadata": {},
     "output_type": "execute_result"
    }
   ],
   "source": [
    "players[1:4]"
   ]
  },
  {
   "cell_type": "code",
   "execution_count": 46,
   "id": "c05e47e9",
   "metadata": {},
   "outputs": [
    {
     "data": {
      "text/plain": [
       "['charles', 'martina', 'michel', 'florence']"
      ]
     },
     "execution_count": 46,
     "metadata": {},
     "output_type": "execute_result"
    }
   ],
   "source": [
    "players[:4]"
   ]
  },
  {
   "cell_type": "code",
   "execution_count": 47,
   "id": "b0890e95",
   "metadata": {},
   "outputs": [
    {
     "data": {
      "text/plain": [
       "['florence', 'eli']"
      ]
     },
     "execution_count": 47,
     "metadata": {},
     "output_type": "execute_result"
    }
   ],
   "source": [
    "players[3:]"
   ]
  },
  {
   "cell_type": "code",
   "execution_count": 48,
   "id": "7907bf84",
   "metadata": {},
   "outputs": [
    {
     "data": {
      "text/plain": [
       "'florence'"
      ]
     },
     "execution_count": 48,
     "metadata": {},
     "output_type": "execute_result"
    }
   ],
   "source": [
    "players[-2]"
   ]
  },
  {
   "cell_type": "code",
   "execution_count": 49,
   "id": "ee5e049e",
   "metadata": {},
   "outputs": [
    {
     "name": "stdout",
     "output_type": "stream",
     "text": [
      "Charles\n",
      "Martina\n",
      "Michel\n"
     ]
    }
   ],
   "source": [
    "for player in players[:3]:\n",
    "    print(player.title())"
   ]
  },
  {
   "cell_type": "code",
   "execution_count": 50,
   "id": "29f080e1",
   "metadata": {},
   "outputs": [
    {
     "data": {
      "text/plain": [
       "['charles', 'martina', 'michel', 'florence', 'eli']"
      ]
     },
     "execution_count": 50,
     "metadata": {},
     "output_type": "execute_result"
    }
   ],
   "source": [
    "players_2 = players[:]\n",
    "players_2"
   ]
  },
  {
   "cell_type": "code",
   "execution_count": 51,
   "id": "58b5e727",
   "metadata": {},
   "outputs": [
    {
     "data": {
      "text/plain": [
       "['charles', 'martina', 'michel', 'florence']"
      ]
     },
     "execution_count": 51,
     "metadata": {},
     "output_type": "execute_result"
    }
   ],
   "source": [
    "players_3 = players[:4]\n",
    "players_3"
   ]
  },
  {
   "cell_type": "markdown",
   "id": "87becf33",
   "metadata": {},
   "source": [
    "### Tupla\n",
    "#### Uma lista imutável"
   ]
  },
  {
   "cell_type": "code",
   "execution_count": 60,
   "id": "571bf6f9",
   "metadata": {},
   "outputs": [],
   "source": [
    "dimensions = (200, 150)"
   ]
  },
  {
   "cell_type": "code",
   "execution_count": 63,
   "id": "f0a0490f",
   "metadata": {},
   "outputs": [
    {
     "data": {
      "text/plain": [
       "200"
      ]
     },
     "execution_count": 63,
     "metadata": {},
     "output_type": "execute_result"
    }
   ],
   "source": [
    "dimensions[0]"
   ]
  },
  {
   "cell_type": "markdown",
   "id": "5cf62da8",
   "metadata": {},
   "source": [
    "##### Não é possível alterar o valor contido na tupla, mas é possível reescrever a tupla"
   ]
  },
  {
   "cell_type": "code",
   "execution_count": 65,
   "id": "f6aed2cb",
   "metadata": {},
   "outputs": [
    {
     "data": {
      "text/plain": [
       "(300, 150)"
      ]
     },
     "execution_count": 65,
     "metadata": {},
     "output_type": "execute_result"
    }
   ],
   "source": [
    "dimensions = (300, 150)\n",
    "dimensions"
   ]
  },
  {
   "cell_type": "code",
   "execution_count": null,
   "id": "2e3c836a",
   "metadata": {},
   "outputs": [],
   "source": []
  }
 ],
 "metadata": {
  "kernelspec": {
   "display_name": "Python 3 (ipykernel)",
   "language": "python",
   "name": "python3"
  },
  "language_info": {
   "codemirror_mode": {
    "name": "ipython",
    "version": 3
   },
   "file_extension": ".py",
   "mimetype": "text/x-python",
   "name": "python",
   "nbconvert_exporter": "python",
   "pygments_lexer": "ipython3",
   "version": "3.8.10"
  }
 },
 "nbformat": 4,
 "nbformat_minor": 5
}
